{
 "cells": [
  {
   "cell_type": "code",
   "execution_count": null,
   "metadata": {},
   "outputs": [],
   "source": [
    "### IT 542: PRML Assignment\n",
    "##### Logistic Regression\n",
    "1. Use IRIS data to generate training data and test data. \n",
    "* Perform K-NN classification on Test data.\n",
    "* Perform logistic regression on training data and classify test data."
   ]
  },
  {
   "cell_type": "code",
   "execution_count": 1,
   "metadata": {},
   "outputs": [],
   "source": [
    "import pandas as pd\n",
    "import numpy as np\n",
    "import seaborn as sns\n",
    "import matplotlib.pyplot as plt\n",
    "from sklearn.neighbors import KNeighborsClassifier\n",
    "from sklearn.linear_model import LogisticRegression\n",
    "from sklearn.model_selection import train_test_split\n",
    "from sklearn.metrics import classification_report, accuracy_score"
   ]
  },
  {
   "cell_type": "code",
   "execution_count": 2,
   "metadata": {},
   "outputs": [],
   "source": [
    "df = pd.read_csv(\"iris.csv\")"
   ]
  },
  {
   "cell_type": "code",
   "execution_count": 3,
   "metadata": {},
   "outputs": [],
   "source": [
    "y = df['variety'].values\n",
    "X = df.drop('variety', axis=1).values\n",
    "X_train, X_test, y_train, y_test = train_test_split(X, y, test_size = 0.2, random_state=42, stratify=y)"
   ]
  },
  {
   "cell_type": "code",
   "execution_count": 4,
   "metadata": {},
   "outputs": [
    {
     "data": {
      "image/png": "[encoded data removed]",
      "text/plain": [
       "<Figure size 432x288 with 1 Axes>"
      ]
     },
     "metadata": {
      "needs_background": "light"
     },
     "output_type": "display_data"
    }
   ],
   "source": [
    "# Setup arrays to store train and test accuracies\n",
    "neighbors = np.arange(1, 26)\n",
    "train_accuracy = np.empty(len(neighbors))\n",
    "test_accuracy = np.empty(len(neighbors))\n",
    "\n",
    "# Loop over different values of k\n",
    "for i, k in enumerate(neighbors):\n",
    "    # Setup a k-NN Classifier with k neighbors: knn\n",
    "    knn = KNeighborsClassifier(n_neighbors=k)\n",
    "\n",
    "    # Fit the classifier to the training data\n",
    "    knn.fit(X_train, y_train)\n",
    "    \n",
    "    #Compute accuracy on the training set\n",
    "    train_accuracy[i] = knn.score(X_train, y_train)\n",
    "\n",
    "    #Compute accuracy on the testing set\n",
    "    test_accuracy[i] = knn.score(X_test, y_test)\n",
    "\n",
    "# Generate plot\n",
    "plt.title('k-NN: Varying Number of Neighbors')\n",
    "plt.plot(neighbors, test_accuracy, label = 'Testing Accuracy')\n",
    "plt.plot(neighbors, train_accuracy, label = 'Training Accuracy')\n",
    "plt.legend()\n",
    "plt.xlabel('Number of Neighbors')\n",
    "plt.ylabel('Accuracy')\n",
    "plt.show()"
   ]
  },
  {
   "cell_type": "code",
   "execution_count": 5,
   "metadata": {},
   "outputs": [
    {
     "data": {
      "text/plain": [
       "KNeighborsClassifier(algorithm='auto', leaf_size=30, metric='minkowski',\n",
       "                     metric_params=None, n_jobs=None, n_neighbors=9, p=2,\n",
       "                     weights='uniform')"
      ]
     },
     "execution_count": 5,
     "metadata": {},
     "output_type": "execute_result"
    }
   ],
   "source": [
    "# Create a k-NN classifier with 9 neighbors\n",
    "knn = KNeighborsClassifier(n_neighbors=9)\n",
    "\n",
    "# Fit the classifier to the data\n",
    "knn.fit(X_train,y_train)"
   ]
  },
  {
   "cell_type": "code",
   "execution_count": 6,
   "metadata": {},
   "outputs": [
    {
     "name": "stdout",
     "output_type": "stream",
     "text": [
      "Actual: ['Setosa' 'Virginica' 'Versicolor' 'Versicolor' 'Setosa' 'Versicolor'\n",
      " 'Setosa' 'Setosa' 'Virginica' 'Versicolor' 'Virginica' 'Virginica'\n",
      " 'Virginica' 'Versicolor' 'Setosa' 'Setosa' 'Setosa' 'Versicolor'\n",
      " 'Versicolor' 'Virginica' 'Setosa' 'Virginica' 'Versicolor' 'Virginica'\n",
      " 'Virginica' 'Versicolor' 'Versicolor' 'Setosa' 'Virginica' 'Setosa']\n",
      "\n",
      "Prediction: ['Setosa' 'Virginica' 'Versicolor' 'Versicolor' 'Setosa' 'Versicolor'\n",
      " 'Setosa' 'Setosa' 'Virginica' 'Versicolor' 'Virginica' 'Virginica'\n",
      " 'Virginica' 'Versicolor' 'Setosa' 'Setosa' 'Setosa' 'Versicolor'\n",
      " 'Versicolor' 'Virginica' 'Setosa' 'Virginica' 'Versicolor' 'Virginica'\n",
      " 'Virginica' 'Versicolor' 'Versicolor' 'Setosa' 'Virginica' 'Setosa']\n"
     ]
    }
   ],
   "source": [
    "# Predict the labels for the training data X\n",
    "y_pred = knn.predict(X_train)\n",
    "\n",
    "# Predict and print the label for the new data point X_new\n",
    "knn_prediction = knn.predict(X_test)\n",
    "print(\"Actual: {}\".format(y_test))\n",
    "print()\n",
    "print(\"Prediction: {}\".format(knn_prediction))\n"
   ]
  },
  {
   "cell_type": "code",
   "execution_count": 7,
   "metadata": {},
   "outputs": [
    {
     "name": "stdout",
     "output_type": "stream",
     "text": [
      "KNN Score on Training Data: 0.975\n",
      "KNN Score on Testing Data: 1.0\n",
      "\n",
      "              precision    recall  f1-score   support\n",
      "\n",
      "      Setosa       1.00      1.00      1.00        10\n",
      "  Versicolor       1.00      1.00      1.00        10\n",
      "   Virginica       1.00      1.00      1.00        10\n",
      "\n",
      "    accuracy                           1.00        30\n",
      "   macro avg       1.00      1.00      1.00        30\n",
      "weighted avg       1.00      1.00      1.00        30\n",
      "\n",
      "Accuracy Score: 1.0\n"
     ]
    }
   ],
   "source": [
    "print(\"KNN Score on Training Data:\" ,knn.score(X_train, y_train))\n",
    "print(\"KNN Score on Testing Data:\" ,knn.score(X_test, y_test))\n",
    "\n",
    "print()\n",
    "\n",
    "#Check precision, recall, f1-score\n",
    "print( classification_report(y_test, knn_prediction) )\n",
    "print( \"Accuracy Score:\", accuracy_score(y_test, knn_prediction))"
   ]
  },
  {
   "cell_type": "code",
   "execution_count": null,
   "metadata": {},
   "outputs": [],
   "source": []
  },
  {
   "cell_type": "code",
   "execution_count": 8,
   "metadata": {},
   "outputs": [
    {
     "data": {
      "text/plain": [
       "LogisticRegression(C=1.0, class_weight=None, dual=False, fit_intercept=True,\n",
       "                   intercept_scaling=1, l1_ratio=None, max_iter=100,\n",
       "                   multi_class='auto', n_jobs=None, penalty='l2',\n",
       "                   random_state=None, solver='lbfgs', tol=0.0001, verbose=0,\n",
       "                   warm_start=False)"
      ]
     },
     "execution_count": 8,
     "metadata": {},
     "output_type": "execute_result"
    }
   ],
   "source": [
    "logReg = LogisticRegression()\n",
    "logReg.fit(X_train, y_train) #Training the model"
   ]
  },
  {
   "cell_type": "code",
   "execution_count": 9,
   "metadata": {},
   "outputs": [
    {
     "name": "stdout",
     "output_type": "stream",
     "text": [
      "Actual: ['Setosa' 'Virginica' 'Versicolor' 'Versicolor' 'Setosa' 'Versicolor'\n",
      " 'Setosa' 'Setosa' 'Virginica' 'Versicolor' 'Virginica' 'Virginica'\n",
      " 'Virginica' 'Versicolor' 'Setosa' 'Setosa' 'Setosa' 'Versicolor'\n",
      " 'Versicolor' 'Virginica' 'Setosa' 'Virginica' 'Versicolor' 'Virginica'\n",
      " 'Virginica' 'Versicolor' 'Versicolor' 'Setosa' 'Virginica' 'Setosa']\n",
      "\n",
      "Prediction: ['Setosa' 'Virginica' 'Versicolor' 'Versicolor' 'Setosa' 'Versicolor'\n",
      " 'Setosa' 'Setosa' 'Virginica' 'Versicolor' 'Virginica' 'Virginica'\n",
      " 'Virginica' 'Versicolor' 'Setosa' 'Setosa' 'Setosa' 'Versicolor'\n",
      " 'Versicolor' 'Virginica' 'Setosa' 'Virginica' 'Versicolor' 'Virginica'\n",
      " 'Virginica' 'Virginica' 'Versicolor' 'Setosa' 'Virginica' 'Setosa']\n",
      "\n",
      "              precision    recall  f1-score   support\n",
      "\n",
      "      Setosa       1.00      1.00      1.00        10\n",
      "  Versicolor       1.00      0.90      0.95        10\n",
      "   Virginica       0.91      1.00      0.95        10\n",
      "\n",
      "    accuracy                           0.97        30\n",
      "   macro avg       0.97      0.97      0.97        30\n",
      "weighted avg       0.97      0.97      0.97        30\n",
      "\n",
      "Accuracy Score: 0.9666666666666667\n"
     ]
    }
   ],
   "source": [
    "#Test the model\n",
    "logReg_predictions = logReg.predict(X_test)\n",
    "print(\"Actual: {}\".format(y_test))\n",
    "print()\n",
    "# printing predictions\n",
    "print(\"Prediction: {}\".format(logReg_predictions))\n",
    "print()\n",
    "#Check precision, recall, f1-score\n",
    "print( classification_report(y_test, logReg_predictions) )\n",
    "print( \"Accuracy Score:\", accuracy_score(y_test, logReg_predictions))"
   ]
  },
  {
   "cell_type": "code",
   "execution_count": null,
   "metadata": {},
   "outputs": [],
   "source": []
  }
 ],
 "metadata": {
  "kernelspec": {
   "display_name": "Python 3",
   "language": "python",
   "name": "python3"
  },
  "language_info": {
   "codemirror_mode": {
    "name": "ipython",
    "version": 3
   },
   "file_extension": ".py",
   "mimetype": "text/x-python",
   "name": "python",
   "nbconvert_exporter": "python",
   "pygments_lexer": "ipython3",
   "version": "3.7.3"
  }
 },
 "nbformat": 4,
 "nbformat_minor": 4
}
